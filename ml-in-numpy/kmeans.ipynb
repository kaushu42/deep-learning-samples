{
 "cells": [
  {
   "cell_type": "code",
   "execution_count": 1,
   "metadata": {},
   "outputs": [],
   "source": [
    "from sklearn.datasets import make_blobs\n",
    "import matplotlib.pyplot as plt\n",
    "import numpy as np\n",
    "import pandas as pd"
   ]
  },
  {
   "cell_type": "code",
   "execution_count": 104,
   "metadata": {},
   "outputs": [],
   "source": [
    "X, y = make_blobs(1000, 2)"
   ]
  },
  {
   "cell_type": "code",
   "execution_count": 105,
   "metadata": {},
   "outputs": [
    {
     "data": {
      "text/plain": [
       "<matplotlib.collections.PathCollection at 0x11d894a70>"
      ]
     },
     "execution_count": 105,
     "metadata": {},
     "output_type": "execute_result"
    },
    {
     "data": {
      "image/png": "[encoded data removed]",
      "text/plain": [
       "<Figure size 640x480 with 1 Axes>"
      ]
     },
     "metadata": {},
     "output_type": "display_data"
    }
   ],
   "source": [
    "plt.scatter(X[:, 0], X[:, 1])"
   ]
  },
  {
   "cell_type": "code",
   "execution_count": 159,
   "metadata": {},
   "outputs": [],
   "source": [
    "from tqdm.notebook import tqdm_notebook as tqdm\n",
    "\n",
    "DISTANCE_METRICS = {\n",
    "    \"L2\": lambda x, y: np.sqrt(np.sum((x-y)**2, axis=1)),\n",
    "    \"L1\": lambda x, y: np.sum(np.abs(x - y), axis=1)\n",
    "}\n",
    "class KMeans:\n",
    "    def __init__(self, k, metric=\"L2\"):\n",
    "        self.k = k\n",
    "        self.distance_metric = DISTANCE_METRICS.get(metric)\n",
    "        if self.distance_metric is None:\n",
    "            raise TypeError(f\"Unknown type for metric: {metric}\")\n",
    "\n",
    "    def init_centers(self, X):\n",
    "        # TODO: Implement a better way later on...\n",
    "        self.centers = np.random.normal(loc=X.mean(), scale=X.std(), size=(self.k, X.shape[1]))\n",
    "\n",
    "    def train(self, X, n_iter=1):\n",
    "        self.init_centers(X)\n",
    "        for i in tqdm(range(n_iter)):\n",
    "            distances = self.compute_distances(X) # Compute distance of each data point for each center\n",
    "            clusters = np.argmin(distances, axis=1)\n",
    "            # print(\"Updating centers...\")\n",
    "            for c in range(self.k):\n",
    "                new_centers = X[clusters == c].mean(axis=0)\n",
    "                if not np.isnan(new_centers).any():\n",
    "                    self.centers[c] = new_centers\n",
    "                # else:\n",
    "                    # print(f\"Found nan in one of the centers...., c={c}\")\n",
    "\n",
    "    def compute_distances(self, X):\n",
    "        # TODO: error handling for shape\n",
    "        n_data, dim = X.shape\n",
    "        distances = np.zeros((n_data, self.k))\n",
    "        return np.sum((X[:, np.newaxis, :] - self.centers[np.newaxis, :, :])**2, axis=2)\n",
    "        \n"
   ]
  },
  {
   "cell_type": "code",
   "execution_count": 202,
   "metadata": {},
   "outputs": [],
   "source": [
    "vectorized_square = np.vectorize(lambda x: x**2)"
   ]
  },
  {
   "cell_type": "code",
   "execution_count": 203,
   "metadata": {},
   "outputs": [
    {
     "data": {
      "text/plain": [
       "array([ 0,  1,  4,  9, 16, 25, 36, 49, 64, 81])"
      ]
     },
     "execution_count": 203,
     "metadata": {},
     "output_type": "execute_result"
    }
   ],
   "source": [
    "vectorized_square(np.arange(10))"
   ]
  },
  {
   "cell_type": "code",
   "execution_count": 192,
   "metadata": {},
   "outputs": [],
   "source": [
    "kmeans = KMeans(k=3, metric=\"L2\")"
   ]
  },
  {
   "cell_type": "code",
   "execution_count": 196,
   "metadata": {},
   "outputs": [],
   "source": [
    "distances = kmeans.compute_distances(X)"
   ]
  },
  {
   "cell_type": "code",
   "execution_count": 200,
   "metadata": {},
   "outputs": [
    {
     "data": {
      "text/plain": [
       "array([1, 0, 1, 1, 0, 1, 0, 1, 2, 2, 2, 2, 1, 2, 0, 1, 1, 2, 1, 2, 2, 1,\n",
       "       2, 0, 0, 0, 2, 2, 1, 1, 2, 2, 0, 1, 0, 2, 2, 0, 2, 0, 2, 0, 1, 2,\n",
       "       2, 0, 2, 2, 1, 2, 1, 1, 2, 2, 2, 0, 1, 0, 1, 0, 0, 2, 0, 1, 0, 0,\n",
       "       1, 1, 2, 0, 2, 1, 0, 0, 1, 0, 2, 1, 2, 2, 2, 2, 0, 0, 1, 1, 0, 1,\n",
       "       2, 2, 2, 1, 0, 1, 0, 2, 2, 1, 1, 2, 0, 2, 2, 2, 0, 0, 1, 2, 2, 0,\n",
       "       1, 1, 1, 0, 0, 2, 1, 1, 1, 0, 1, 0, 1, 2, 2, 1, 0, 1, 1, 1, 2, 1,\n",
       "       2, 2, 1, 0, 2, 1, 2, 2, 2, 2, 0, 0, 1, 2, 1, 1, 2, 0, 1, 2, 2, 0,\n",
       "       0, 0, 2, 1, 1, 2, 1, 1, 1, 0, 2, 1, 2, 1, 1, 1, 1, 0, 2, 1, 0, 1,\n",
       "       1, 1, 2, 0, 1, 1, 1, 0, 0, 2, 2, 2, 0, 0, 1, 1, 1, 0, 2, 1, 2, 1,\n",
       "       2, 2, 0, 2, 2, 2, 2, 0, 2, 2, 0, 1, 1, 1, 0, 1, 2, 1, 1, 1, 1, 0,\n",
       "       0, 0, 1, 1, 1, 0, 2, 2, 0, 0, 0, 2, 2, 1, 2, 2, 2, 2, 2, 2, 1, 2,\n",
       "       2, 1, 2, 2, 1, 2, 2, 2, 2, 0, 2, 0, 2, 1, 0, 0, 0, 0, 0, 0, 1, 0,\n",
       "       1, 1, 0, 1, 1, 0, 0, 1, 0, 0, 2, 0, 0, 0, 2, 2, 1, 0, 2, 1, 2, 2,\n",
       "       2, 2, 0, 0, 0, 1, 2, 1, 1, 2, 2, 0, 2, 1, 1, 0, 0, 2, 0, 2, 0, 1,\n",
       "       1, 2, 1, 2, 1, 0, 1, 2, 1, 1, 0, 0, 0, 2, 2, 2, 2, 2, 1, 1, 1, 1,\n",
       "       0, 1, 2, 0, 2, 2, 2, 2, 1, 0, 0, 0, 0, 0, 0, 0, 0, 1, 2, 1, 0, 0,\n",
       "       0, 0, 2, 1, 2, 0, 1, 2, 1, 1, 0, 0, 0, 1, 1, 0, 1, 2, 1, 1, 0, 0,\n",
       "       0, 2, 0, 0, 1, 0, 0, 0, 2, 2, 2, 0, 2, 1, 1, 2, 2, 2, 0, 2, 1, 1,\n",
       "       2, 0, 1, 0, 0, 1, 1, 1, 2, 2, 2, 2, 0, 0, 2, 2, 1, 0, 2, 0, 1, 2,\n",
       "       2, 1, 2, 2, 2, 0, 1, 2, 0, 2, 0, 2, 1, 2, 1, 0, 2, 2, 1, 2, 1, 0,\n",
       "       2, 2, 0, 0, 0, 1, 2, 1, 0, 1, 2, 0, 1, 2, 0, 1, 0, 0, 0, 0, 1, 2,\n",
       "       0, 2, 1, 2, 1, 0, 0, 0, 2, 1, 2, 2, 2, 0, 1, 1, 1, 0, 1, 1, 1, 1,\n",
       "       0, 2, 1, 2, 2, 1, 2, 1, 2, 2, 1, 2, 0, 1, 1, 0, 1, 1, 2, 2, 1, 1,\n",
       "       1, 1, 2, 2, 1, 0, 0, 1, 1, 2, 0, 2, 2, 2, 0, 0, 1, 0, 0, 2, 1, 0,\n",
       "       1, 0, 1, 1, 1, 1, 1, 1, 1, 1, 0, 2, 2, 0, 1, 1, 2, 2, 2, 0, 1, 1,\n",
       "       2, 0, 0, 1, 1, 0, 0, 0, 2, 2, 0, 0, 2, 0, 0, 1, 2, 0, 1, 0, 1, 0,\n",
       "       2, 0, 1, 2, 0, 1, 2, 0, 1, 1, 2, 1, 0, 2, 1, 0, 2, 1, 2, 1, 2, 2,\n",
       "       0, 2, 0, 0, 1, 0, 1, 0, 1, 1, 2, 1, 0, 1, 0, 0, 0, 2, 2, 1, 0, 0,\n",
       "       1, 0, 0, 1, 1, 1, 1, 0, 0, 1, 0, 1, 1, 1, 1, 0, 0, 2, 0, 1, 0, 1,\n",
       "       2, 2, 0, 0, 0, 0, 1, 1, 0, 2, 0, 1, 2, 2, 0, 2, 2, 2, 0, 1, 1, 0,\n",
       "       2, 0, 0, 2, 0, 1, 2, 1, 2, 1, 1, 1, 0, 2, 0, 0, 2, 1, 0, 0, 0, 0,\n",
       "       2, 2, 2, 1, 1, 2, 2, 1, 0, 0, 2, 1, 2, 0, 1, 0, 1, 1, 2, 2, 2, 0,\n",
       "       1, 2, 2, 0, 0, 0, 1, 1, 0, 1, 2, 0, 1, 0, 2, 2, 1, 1, 0, 1, 0, 0,\n",
       "       2, 0, 1, 0, 2, 1, 1, 0, 2, 0, 1, 0, 2, 0, 2, 2, 2, 2, 0, 2, 1, 0,\n",
       "       2, 1, 1, 1, 2, 1, 2, 2, 0, 1, 1, 2, 1, 1, 1, 0, 1, 0, 0, 1, 0, 2,\n",
       "       2, 0, 2, 1, 2, 1, 2, 2, 0, 1, 2, 1, 1, 0, 1, 2, 2, 2, 1, 1, 1, 2,\n",
       "       1, 2, 2, 0, 0, 1, 1, 2, 1, 2, 0, 0, 2, 1, 2, 1, 2, 2, 1, 1, 0, 0,\n",
       "       1, 1, 0, 1, 1, 1, 2, 0, 2, 2, 2, 0, 2, 1, 2, 0, 2, 0, 0, 2, 1, 0,\n",
       "       0, 0, 2, 1, 1, 2, 0, 2, 1, 2, 2, 1, 1, 0, 2, 0, 2, 0, 2, 0, 0, 0,\n",
       "       0, 0, 2, 0, 2, 0, 2, 0, 1, 2, 2, 1, 0, 0, 0, 0, 2, 0, 1, 1, 0, 2,\n",
       "       1, 2, 2, 0, 0, 2, 1, 1, 2, 2, 1, 2, 2, 0, 1, 0, 2, 1, 1, 0, 0, 2,\n",
       "       1, 0, 0, 0, 2, 0, 2, 1, 0, 1, 1, 2, 0, 1, 1, 0, 0, 1, 0, 0, 2, 0,\n",
       "       0, 2, 2, 0, 1, 0, 1, 0, 1, 0, 2, 1, 2, 0, 2, 2, 1, 2, 1, 2, 0, 0,\n",
       "       0, 2, 1, 2, 1, 1, 0, 2, 1, 2, 0, 1, 1, 0, 0, 1, 2, 0, 2, 0, 2, 1,\n",
       "       0, 1, 2, 0, 0, 0, 0, 1, 1, 0, 0, 2, 0, 0, 0, 0, 1, 0, 2, 1, 2, 1,\n",
       "       2, 0, 1, 2, 2, 0, 2, 1, 0, 2])"
      ]
     },
     "execution_count": 200,
     "metadata": {},
     "output_type": "execute_result"
    }
   ],
   "source": [
    "distances.argmin(axis=1)"
   ]
  },
  {
   "cell_type": "code",
   "execution_count": 199,
   "metadata": {},
   "outputs": [
    {
     "data": {
      "text/plain": [
       "array([[-8.80481074, -9.66115317],\n",
       "       [-7.26736489, -1.01361851],\n",
       "       [-8.80481074, -9.66115317],\n",
       "       ...,\n",
       "       [-8.80481074, -9.66115317],\n",
       "       [-7.26736489, -1.01361851],\n",
       "       [-5.69221026, -1.01983257]], shape=(1000, 2))"
      ]
     },
     "execution_count": 199,
     "metadata": {},
     "output_type": "execute_result"
    }
   ],
   "source": [
    "X[]"
   ]
  },
  {
   "cell_type": "code",
   "execution_count": 193,
   "metadata": {},
   "outputs": [
    {
     "data": {
      "application/vnd.jupyter.widget-view+json": {
       "model_id": "6940f08c70e349f0ba57d14da3c1ba76",
       "version_major": 2,
       "version_minor": 0
      },
      "text/plain": [
       "  0%|          | 0/10 [00:00<?, ?it/s]"
      ]
     },
     "metadata": {},
     "output_type": "display_data"
    },
    {
     "data": {
      "image/png": "[encoded data removed]",
      "text/plain": [
       "<Figure size 640x480 with 1 Axes>"
      ]
     },
     "metadata": {},
     "output_type": "display_data"
    }
   ],
   "source": [
    "distances = kmeans.train(X, n_iter=10)\n",
    "plt.scatter(X[:, 0], X[:, 1])\n",
    "plt.scatter(kmeans.centers[:, 0], kmeans.centers[:, 1], c=\"r\", marker=\"+\")\n",
    "plt.show()"
   ]
  },
  {
   "cell_type": "code",
   "execution_count": 103,
   "metadata": {},
   "outputs": [
    {
     "data": {
      "text/plain": [
       "array([[ 0.12133361, -0.25382389,  0.13984034, -0.40630522,  0.32265169],\n",
       "       [ 0.10790919, -1.12367691,  1.75428716, -0.44183572, -1.20318181],\n",
       "       [ 0.00537772, -0.0347727 , -0.40371824, -0.23825735,  0.57569329]])"
      ]
     },
     "execution_count": 103,
     "metadata": {},
     "output_type": "execute_result"
    }
   ],
   "source": [
    "kmeans.centers"
   ]
  },
  {
   "cell_type": "code",
   "execution_count": 67,
   "metadata": {},
   "outputs": [
    {
     "data": {
      "text/plain": [
       "array([[4.28545743, 2.75024855, 2.25050029],\n",
       "       [4.61357611, 2.34179832, 2.36904237],\n",
       "       [4.02496173, 1.16654708, 2.35914156],\n",
       "       [2.40097195, 1.87225814, 1.52212281],\n",
       "       [4.63350954, 2.63744264, 3.95457612],\n",
       "       [2.97081402, 2.8413437 , 1.76836529],\n",
       "       [5.45524263, 3.22035535, 4.93980272],\n",
       "       [4.52937251, 2.7207376 , 3.38474879],\n",
       "       [2.81157911, 1.76655234, 1.89100774],\n",
       "       [3.06505664, 3.16520732, 2.10475843]])"
      ]
     },
     "execution_count": 67,
     "metadata": {},
     "output_type": "execute_result"
    }
   ],
   "source": [
    "distances"
   ]
  },
  {
   "cell_type": "code",
   "execution_count": 69,
   "metadata": {},
   "outputs": [],
   "source": [
    "clusters =  distances.argmax(axis=1)"
   ]
  },
  {
   "cell_type": "code",
   "execution_count": 86,
   "metadata": {},
   "outputs": [
    {
     "data": {
      "text/plain": [
       "np.False_"
      ]
     },
     "execution_count": 86,
     "metadata": {},
     "output_type": "execute_result"
    }
   ],
   "source": [
    "np.isnan(clusters).any()"
   ]
  },
  {
   "cell_type": "code",
   "execution_count": 83,
   "metadata": {},
   "outputs": [
    {
     "name": "stderr",
     "output_type": "stream",
     "text": [
      "/var/folders/__/z7rngyn91018myhmk935cpf80000gp/T/ipykernel_31447/3391154692.py:1: RuntimeWarning: Mean of empty slice.\n",
      "  np.isnan(X[clusters == 2].mean(axis=0))\n",
      "/Users/kaushal.mishra/work/mle/.venv/lib/python3.12/site-packages/numpy/_core/_methods.py:137: RuntimeWarning: invalid value encountered in divide\n",
      "  ret = um.true_divide(\n"
     ]
    },
    {
     "data": {
      "text/plain": [
       "array([ True,  True,  True,  True,  True])"
      ]
     },
     "execution_count": 83,
     "metadata": {},
     "output_type": "execute_result"
    }
   ],
   "source": [
    "np.isnan(X[clusters == 2].mean(axis=0))"
   ]
  },
  {
   "cell_type": "code",
   "execution_count": 76,
   "metadata": {},
   "outputs": [
    {
     "data": {
      "text/plain": [
       "array([[-0.8802772 , -0.41235118,  0.21480914,  0.68600229,  2.16549088],\n",
       "       [ 0.77626873,  0.28523234, -0.26651167,  1.34787545,  0.0708878 ],\n",
       "       [-0.55378236, -1.11783414,  0.38045325,  0.52158762,  0.12653487],\n",
       "       [-0.23146904,  0.43013348, -1.1610772 , -0.71306624,  0.11144976],\n",
       "       [-0.30026193, -2.30694353,  1.14222306, -1.17772636, -0.60242636],\n",
       "       [ 0.10865571, -0.05425594, -1.03044958, -1.53141452,  1.30080351],\n",
       "       [ 0.5160803 ,  0.0595897 ,  2.36635127,  0.29405492, -1.80393725],\n",
       "       [ 1.1016379 ,  0.60206125,  1.18319487, -0.20337209, -0.05895147],\n",
       "       [-0.15804641,  0.62288989, -1.22034763, -0.06087605, -0.50856566],\n",
       "       [-0.11996558, -0.63405728, -1.32981711, -1.95279524,  1.39789665]])"
      ]
     },
     "execution_count": 76,
     "metadata": {},
     "output_type": "execute_result"
    }
   ],
   "source": [
    "X"
   ]
  },
  {
   "cell_type": "code",
   "execution_count": 79,
   "metadata": {},
   "outputs": [
    {
     "data": {
      "text/plain": [
       "array([ 0.04208952, -0.21016424,  0.17873839, -0.09299278,  0.08903179])"
      ]
     },
     "execution_count": 79,
     "metadata": {},
     "output_type": "execute_result"
    }
   ],
   "source": [
    "X[clusters == 0].mean(axis=0)"
   ]
  },
  {
   "cell_type": "code",
   "execution_count": 24,
   "metadata": {},
   "outputs": [
    {
     "data": {
      "text/plain": [
       "(array([[-0.8802772 , -0.41235118,  0.21480914,  0.68600229,  2.16549088],\n",
       "        [ 0.77626873,  0.28523234, -0.26651167,  1.34787545,  0.0708878 ],\n",
       "        [-0.55378236, -1.11783414,  0.38045325,  0.52158762,  0.12653487],\n",
       "        [-0.23146904,  0.43013348, -1.1610772 , -0.71306624,  0.11144976],\n",
       "        [-0.30026193, -2.30694353,  1.14222306, -1.17772636, -0.60242636],\n",
       "        [ 0.10865571, -0.05425594, -1.03044958, -1.53141452,  1.30080351],\n",
       "        [ 0.5160803 ,  0.0595897 ,  2.36635127,  0.29405492, -1.80393725],\n",
       "        [ 1.1016379 ,  0.60206125,  1.18319487, -0.20337209, -0.05895147],\n",
       "        [-0.15804641,  0.62288989, -1.22034763, -0.06087605, -0.50856566],\n",
       "        [-0.11996558, -0.63405728, -1.32981711, -1.95279524,  1.39789665]]),\n",
       " array([[ 1.0327681 , -0.8024753 , -0.16692645, -0.49519673,  1.12280163],\n",
       "        [-0.07481612, -0.11928784, -0.43138512,  1.46339506,  1.41823038],\n",
       "        [ 0.52171231, -0.32909281,  0.87800444,  0.34825138, -0.23618557]]))"
      ]
     },
     "execution_count": 24,
     "metadata": {},
     "output_type": "execute_result"
    }
   ],
   "source": [
    "X, centers"
   ]
  },
  {
   "cell_type": "code",
   "execution_count": 28,
   "metadata": {},
   "outputs": [],
   "source": [
    "def compute_distances(X, centers, k = 3):\n",
    "    # TODO: error handling for shape\n",
    "    n_data, dim = X.shape\n",
    "    distances = np.zeros((n_data, k))\n",
    "    for i in range(k):\n",
    "        distances[:, 0] = ((X - centers[0,])**2).sum(axis=1)\n",
    "    return distances"
   ]
  },
  {
   "cell_type": "code",
   "execution_count": 54,
   "metadata": {},
   "outputs": [],
   "source": [
    "distances = np.zeros((X.shape[0], 3))\n",
    "# for i in range()"
   ]
  },
  {
   "cell_type": "code",
   "execution_count": 55,
   "metadata": {},
   "outputs": [],
   "source": [
    "distances[:, 0] = ((X - centers[0,])**2).sum(axis=1)"
   ]
  },
  {
   "cell_type": "code",
   "execution_count": 56,
   "metadata": {},
   "outputs": [
    {
     "data": {
      "text/plain": [
       "array([[ 6.44009324,  0.        ,  0.        ],\n",
       "       [ 5.76225481,  0.        ,  0.        ],\n",
       "       [ 4.94261595,  0.        ,  0.        ],\n",
       "       [ 5.17625537,  0.        ,  0.        ],\n",
       "       [ 9.19652441,  0.        ,  0.        ],\n",
       "       [ 3.26492012,  0.        ,  0.        ],\n",
       "       [16.61633693,  0.        ,  0.        ],\n",
       "       [ 5.28199553,  0.        ,  0.        ],\n",
       "       [ 7.40939501,  0.        ,  0.        ],\n",
       "       [ 4.90974493,  0.        ,  0.        ]])"
      ]
     },
     "execution_count": 56,
     "metadata": {},
     "output_type": "execute_result"
    }
   ],
   "source": [
    "distances"
   ]
  },
  {
   "cell_type": "code",
   "execution_count": null,
   "metadata": {},
   "outputs": [],
   "source": []
  }
 ],
 "metadata": {
  "kernelspec": {
   "display_name": ".venv",
   "language": "python",
   "name": "python3"
  },
  "language_info": {
   "codemirror_mode": {
    "name": "ipython",
    "version": 3
   },
   "file_extension": ".py",
   "mimetype": "text/x-python",
   "name": "python",
   "nbconvert_exporter": "python",
   "pygments_lexer": "ipython3",
   "version": "3.12.5"
  }
 },
 "nbformat": 4,
 "nbformat_minor": 2
}
