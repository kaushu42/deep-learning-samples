{
 "cells": [
  {
   "cell_type": "code",
   "execution_count": 1,
   "metadata": {},
   "outputs": [],
   "source": [
    "import torch\n",
    "import torch.nn as nn\n",
    "from transformers import (\n",
    "    BertForSequenceClassification,\n",
    "    AutoTokenizer,\n",
    "    AutoModel,\n",
    "    BertPreTrainedModel,\n",
    ")\n",
    "from transformers import pipeline\n",
    "from transformers import BertTokenizer, BertForSequenceClassification\n",
    "from transformers.modeling_outputs import SequenceClassifierOutput\n",
    "import torch.nn as nn\n",
    "from transformers.models.auto.modeling_auto import (\n",
    "    MODEL_FOR_SEQUENCE_CLASSIFICATION_MAPPING_NAMES,\n",
    ")"
   ]
  },
  {
   "cell_type": "code",
   "execution_count": 2,
   "metadata": {},
   "outputs": [],
   "source": [
    "from typing import Union\n",
    "\n",
    "\n",
    "class BertWithCustomHead(BertForSequenceClassification):\n",
    "    def __init__(self, config):\n",
    "        super().__init__(config)\n",
    "\n",
    "        # Define the custom classification head\n",
    "        self.custom_dropout = nn.Dropout(p=0.3)\n",
    "        self.classifier = nn.Sequential(\n",
    "            nn.Linear(self.config.hidden_size, 128),\n",
    "            nn.ReLU(),\n",
    "            nn.Dropout(0.3),\n",
    "            nn.Linear(128, 64),\n",
    "            nn.ReLU(),\n",
    "            nn.Linear(64, self.config.num_labels),\n",
    "        )\n",
    "\n",
    "    def forward(\n",
    "        self,\n",
    "        input_ids=None,\n",
    "        attention_mask=None,\n",
    "        token_type_ids=None,\n",
    "        labels=None,\n",
    "        return_dict=True,\n",
    "    ) -> Union[tuple[torch.Tensor], SequenceClassifierOutput]:\n",
    "        # Get outputs from the base BERT model\n",
    "        outputs = self.bert(\n",
    "            input_ids=input_ids,\n",
    "            attention_mask=attention_mask,\n",
    "            token_type_ids=token_type_ids,\n",
    "            return_dict=return_dict,\n",
    "        )\n",
    "\n",
    "        # Extract the [CLS] pooled output\n",
    "        pooled_output = outputs.pooler_output\n",
    "\n",
    "        # Pass pooled output through the custom classification head\n",
    "        pooled_output = self.custom_dropout(pooled_output)\n",
    "        logits = self.classifier(pooled_output)\n",
    "\n",
    "        # Return logits and loss if labels are provided\n",
    "        loss = None\n",
    "        if labels is not None:\n",
    "            loss_fn = nn.CrossEntropyLoss()\n",
    "            loss = loss_fn(logits, labels)\n",
    "\n",
    "        if not return_dict:\n",
    "            return (loss, logits) if loss is not None else logits\n",
    "\n",
    "        return SequenceClassifierOutput(\n",
    "            loss=loss,\n",
    "            logits=logits,\n",
    "            hidden_states=outputs.hidden_states,\n",
    "            attentions=outputs.attentions,\n",
    "        )\n",
    "\n",
    "\n",
    "MODEL_FOR_SEQUENCE_CLASSIFICATION_MAPPING_NAMES[\"bert_with_custom_head\"] = (\n",
    "    \"BertWithCustomHead\"\n",
    ")\n",
    "# del MODEL_FOR_SEQUENCE_CLASSIFICATION_MAPPING_NAMES[\"bert_with_custom_head\"]"
   ]
  },
  {
   "cell_type": "code",
   "execution_count": 3,
   "metadata": {},
   "outputs": [
    {
     "data": {
      "text/plain": [
       "Sequential(\n",
       "  (0): Linear(in_features=128, out_features=128, bias=True)\n",
       "  (1): ReLU()\n",
       "  (2): Dropout(p=0.3, inplace=False)\n",
       "  (3): Linear(in_features=128, out_features=64, bias=True)\n",
       "  (4): ReLU()\n",
       "  (5): Linear(in_features=64, out_features=3, bias=True)\n",
       ")"
      ]
     },
     "execution_count": 3,
     "metadata": {},
     "output_type": "execute_result"
    }
   ],
   "source": [
    "model = BertWithCustomHead.from_pretrained(\"./roman-classifier\")\n",
    "model.classifier # Verify that the correct classification heads are loaded"
   ]
  },
  {
   "cell_type": "code",
   "execution_count": 7,
   "metadata": {},
   "outputs": [],
   "source": [
    "from optimum.onnxruntime import ORTModelForSequenceClassification\n",
    "from optimum.exporters.tasks import TasksManager\n",
    "TasksManager.infer_library_from_model = lambda *args, **kwargs: \"transformers\"\n",
    "TasksManager.get_model_class_for_task = lambda *args, **kwargs: BertWithCustomHead"
   ]
  },
  {
   "cell_type": "code",
   "execution_count": 8,
   "metadata": {},
   "outputs": [
    {
     "name": "stdout",
     "output_type": "stream",
     "text": [
      "I have loaded the model Sequential(\n",
      "  (0): Linear(in_features=128, out_features=128, bias=True)\n",
      "  (1): ReLU()\n",
      "  (2): Dropout(p=0.3, inplace=False)\n",
      "  (3): Linear(in_features=128, out_features=64, bias=True)\n",
      "  (4): ReLU()\n",
      "  (5): Linear(in_features=64, out_features=3, bias=True)\n",
      ")\n"
     ]
    },
    {
     "name": "stderr",
     "output_type": "stream",
     "text": [
      "/var/folders/__/z7rngyn91018myhmk935cpf80000gp/T/ipykernel_62687/638608639.py:48: TracerWarning: Converting a tensor to a Python boolean might cause the trace to be incorrect. We can't record the data flow of Python values, so this value will be treated as a constant in the future. This means that the trace might not generalize to other inputs!\n",
      "  if not return_dict:\n"
     ]
    },
    {
     "data": {
      "text/plain": [
       "('onnx/tokenizer_config.json',\n",
       " 'onnx/special_tokens_map.json',\n",
       " 'onnx/vocab.txt',\n",
       " 'onnx/added_tokens.json',\n",
       " 'onnx/tokenizer.json')"
      ]
     },
     "execution_count": 8,
     "metadata": {},
     "output_type": "execute_result"
    }
   ],
   "source": [
    "model_checkpoint = \"./roman-classifier\"\n",
    "save_directory = \"onnx/\"\n",
    "\n",
    "ort_model = ORTModelForSequenceClassification.from_pretrained(\"./roman-classifier\", export=True, task=\"text-classification\")\n",
    "tokenizer = AutoTokenizer.from_pretrained(model_checkpoint)\n",
    "\n",
    "# Save the onnx model and tokenizer\n",
    "ort_model.save_pretrained(save_directory)\n",
    "tokenizer.save_pretrained(save_directory)"
   ]
  },
  {
   "cell_type": "code",
   "execution_count": 9,
   "metadata": {},
   "outputs": [
    {
     "name": "stderr",
     "output_type": "stream",
     "text": [
      "Device set to use mps:0\n"
     ]
    }
   ],
   "source": [
    "onnx_inference_pipeline = pipeline(\n",
    "    \"text-classification\",\n",
    "    model=ort_model,\n",
    "    tokenizer=tokenizer,\n",
    ")"
   ]
  },
  {
   "cell_type": "code",
   "execution_count": 22,
   "metadata": {},
   "outputs": [],
   "source": [
    "model_path = \"./roman-classifier\"\n",
    "model = BertWithCustomHead.from_pretrained(model_path)"
   ]
  },
  {
   "cell_type": "code",
   "execution_count": 23,
   "metadata": {},
   "outputs": [
    {
     "name": "stderr",
     "output_type": "stream",
     "text": [
      "Device set to use mps:0\n"
     ]
    }
   ],
   "source": [
    "inference_pipeline = pipeline(\n",
    "    \"text-classification\",\n",
    "    model=model,\n",
    "    tokenizer=tokenizer,\n",
    ")"
   ]
  },
  {
   "cell_type": "code",
   "execution_count": 26,
   "metadata": {},
   "outputs": [
    {
     "data": {
      "text/plain": [
       "[{'label': 'LABEL_2', 'score': 0.4014548063278198},\n",
       " {'label': 'LABEL_2', 'score': 0.40924739837646484},\n",
       " {'label': 'LABEL_2', 'score': 0.42295145988464355},\n",
       " {'label': 'LABEL_0', 'score': 0.41292551159858704},\n",
       " {'label': 'LABEL_2', 'score': 0.3565642833709717}]"
      ]
     },
     "execution_count": 26,
     "metadata": {},
     "output_type": "execute_result"
    }
   ],
   "source": [
    "inference_pipeline([\"Namaste, tapai sanchai hunuhuncha?\", \"dattebayo chan\", \"k cha khabar\", \"hi there, how you doing?\", \"arigato gozaimasu\"])"
   ]
  },
  {
   "cell_type": "code",
   "execution_count": 25,
   "metadata": {},
   "outputs": [
    {
     "data": {
      "text/plain": [
       "[{'label': 'LABEL_2', 'score': 0.4014548659324646},\n",
       " {'label': 'LABEL_2', 'score': 0.40924733877182007},\n",
       " {'label': 'LABEL_2', 'score': 0.42295145988464355},\n",
       " {'label': 'LABEL_0', 'score': 0.41292551159858704},\n",
       " {'label': 'LABEL_2', 'score': 0.3565642833709717}]"
      ]
     },
     "execution_count": 25,
     "metadata": {},
     "output_type": "execute_result"
    }
   ],
   "source": [
    "onnx_inference_pipeline([\"Namaste, tapai sanchai hunuhuncha?\", \"dattebayo chan\", \"k cha khabar\", \"hi there, how you doing?\", \"arigato gozaimasu\"])"
   ]
  },
  {
   "cell_type": "code",
   "execution_count": 17,
   "metadata": {},
   "outputs": [],
   "source": [
    "import time\n",
    "import pandas as pd\n",
    "\n",
    "df = pd.read_csv(\"datasets/dataset.csv\")"
   ]
  },
  {
   "cell_type": "code",
   "execution_count": 18,
   "metadata": {},
   "outputs": [
    {
     "name": "stdout",
     "output_type": "stream",
     "text": [
      "Total time taken:  6.128638982772827\n",
      "Total time taken:  4.91447901725769\n",
      "Total time taken:  4.506620168685913\n",
      "Total time taken:  4.699854850769043\n",
      "Total time taken:  4.491797924041748\n",
      "Total time taken:  4.353509902954102\n",
      "Total time taken:  4.253670692443848\n",
      "Total time taken:  4.248823165893555\n",
      "Total time taken:  4.246496200561523\n",
      "Total time taken:  4.304681777954102\n"
     ]
    }
   ],
   "source": [
    "model.eval()\n",
    "for i in range(10):\n",
    "    start = time.time()\n",
    "    df[\"preds\"] = df.sentences.apply(lambda x: inference_pipeline(x)[0])\n",
    "    end = time.time()\n",
    "    print(\"Total time taken: \", end - start)"
   ]
  },
  {
   "cell_type": "code",
   "execution_count": 19,
   "metadata": {},
   "outputs": [
    {
     "name": "stdout",
     "output_type": "stream",
     "text": [
      "Total time taken:  1.264888048171997\n",
      "Total time taken:  1.3372550010681152\n",
      "Total time taken:  1.3093030452728271\n",
      "Total time taken:  1.496689796447754\n",
      "Total time taken:  1.380295991897583\n",
      "Total time taken:  1.290701150894165\n",
      "Total time taken:  1.3331658840179443\n",
      "Total time taken:  1.6963269710540771\n",
      "Total time taken:  2.06199312210083\n",
      "Total time taken:  1.2847800254821777\n"
     ]
    }
   ],
   "source": [
    "model.eval()\n",
    "for i in range(10):\n",
    "    start = time.time()\n",
    "    df[\"preds\"] = df.sentences.apply(lambda x: onnx_inference_pipeline(x)[0])\n",
    "    end = time.time()\n",
    "    print(\"Total time taken: \", end - start)"
   ]
  }
 ],
 "metadata": {
  "kernelspec": {
   "display_name": ".venv",
   "language": "python",
   "name": "python3"
  },
  "language_info": {
   "codemirror_mode": {
    "name": "ipython",
    "version": 3
   },
   "file_extension": ".py",
   "mimetype": "text/x-python",
   "name": "python",
   "nbconvert_exporter": "python",
   "pygments_lexer": "ipython3",
   "version": "3.12.5"
  }
 },
 "nbformat": 4,
 "nbformat_minor": 2
}
